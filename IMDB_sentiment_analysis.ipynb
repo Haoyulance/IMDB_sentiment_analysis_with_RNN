{
  "nbformat": 4,
  "nbformat_minor": 0,
  "metadata": {
    "colab": {
      "name": "Untitled0.ipynb",
      "version": "0.3.2",
      "provenance": [],
      "toc_visible": true
    },
    "kernelspec": {
      "name": "python3",
      "display_name": "Python 3"
    },
    "accelerator": "GPU"
  },
  "cells": [
    {
      "metadata": {
        "id": "eQkkqy8XZhVn",
        "colab_type": "code",
        "colab": {
          "base_uri": "https://localhost:8080/",
          "height": 34
        },
        "outputId": "70ae9797-63a8-4393-d848-e010d9661e79"
      },
      "cell_type": "code",
      "source": [
        "import tensorflow as tf\n",
        "from tensorflow import keras\n",
        "from tensorflow.keras import backend as K\n",
        "from tensorflow.keras.layers import Embedding, Bidirectional, LSTM, CuDNNLSTM\n",
        "from tensorflow.keras.layers import Dropout, Dense, GlobalAveragePooling1D\n",
        "%matplotlib inline\n",
        "import matplotlib.pyplot as plt\n",
        "import numpy as np\n",
        "print(tf.__version__)"
      ],
      "execution_count": 4,
      "outputs": [
        {
          "output_type": "stream",
          "text": [
            "1.13.0-rc1\n"
          ],
          "name": "stdout"
        }
      ]
    },
    {
      "metadata": {
        "id": "MlrTHEbiH3f1",
        "colab_type": "text"
      },
      "cell_type": "markdown",
      "source": [
        "# Plot accuracy and loss over *time*"
      ]
    },
    {
      "metadata": {
        "id": "MK5ymZqkH2VQ",
        "colab_type": "code",
        "colab": {}
      },
      "cell_type": "code",
      "source": [
        "def plot_hist(history):\n",
        "  history_dict = history.history\n",
        "  acc = history.history['acc']\n",
        "  val_acc = history.history['val_acc']\n",
        "  loss = history.history['loss']\n",
        "  val_loss = history.history['val_loss']\n",
        "  epochs = range(1, len(acc) + 1)\n",
        "  \n",
        "  plt.clf() #clear figure\n",
        "  plt.plot(epochs, loss, 'b', label = 'Training loss')\n",
        "  plt.plot(epochs, val_loss, 'r', label = 'Validation loss')\n",
        "  plt.title('Training and validation loss')\n",
        "  plt.xlabel('Epochs')\n",
        "  plt.ylabel('Loss')\n",
        "  plt.legend()\n",
        "  plt.show()\n",
        "  \n",
        "  plt.clf()\n",
        "  plt.plot(epochs, acc, 'b', label='Training accuracy')\n",
        "  plt.plot(epochs, val_acc, 'r', label='Validation accuracy')\n",
        "  plt.title('Training and validation accuracy')\n",
        "  plt.xlabel('Epochs')\n",
        "  plt.ylabel('Accuracy')\n",
        "  plt.legend()\n",
        "  plt.show()\n",
        "  \n"
      ],
      "execution_count": 0,
      "outputs": []
    },
    {
      "metadata": {
        "id": "xUaHCyXKlzMh",
        "colab_type": "text"
      },
      "cell_type": "markdown",
      "source": [
        "# Download dataset"
      ]
    },
    {
      "metadata": {
        "id": "8Wnk7GkHcGXa",
        "colab_type": "code",
        "colab": {}
      },
      "cell_type": "code",
      "source": [
        "vocab_size = 10000\n",
        "(train_data, train_labels), (test_data, test_labels) = \\\n",
        "    keras.datasets.imdb.load_data(num_words=vocab_size)"
      ],
      "execution_count": 0,
      "outputs": []
    },
    {
      "metadata": {
        "id": "t8auoDfGco91",
        "colab_type": "code",
        "colab": {}
      },
      "cell_type": "code",
      "source": [
        "# a dictionary mapping words --> integer index\n",
        "word_index = keras.datasets.imdb.get_word_index()\n",
        "# shift word index by 3 because we want to add special words\n",
        "word_index = {k:(v+3) for k, v in word_index.items()}\n",
        "word_index[\"<PAD>\"] = 0 # padding\n",
        "word_index[\"<SOS>\"] = 1 # start of sequence\n",
        "word_index[\"<UNK>\"] = 2 # unknown (out of the top 1000 most frequent words)\n"
      ],
      "execution_count": 0,
      "outputs": []
    },
    {
      "metadata": {
        "id": "wxPr2NvkeFrW",
        "colab_type": "code",
        "colab": {}
      },
      "cell_type": "code",
      "source": [
        "# build another dictionary of mapping integer -->words, reverse indexs and values\n",
        "reverse_word_index = dict([(k,v) for (v,k) in word_index.items()])\n",
        "# creat a helper function to convert the integer to words\n",
        "# also limit max length\n",
        "def decode_review(text):\n",
        "  words = [reverse_word_index.get(i, \"<UNK>\") for i in text] # return UNK when words not found in the dictionary\n",
        "  fixed_width_string = []\n",
        "  # limit max length = 10\n",
        "  for w_pos in range(len(words)):\n",
        "    fixed_width_string.append(words[w_pos])\n",
        "    if (w_pos+1) % 10 == 0:\n",
        "      fixed_width_string.append('\\n')\n",
        "  return ' '.join(fixed_width_string)# separate the elements in the list with whitespce"
      ],
      "execution_count": 0,
      "outputs": []
    },
    {
      "metadata": {
        "id": "sKGMzCRBl8Ll",
        "colab_type": "text"
      },
      "cell_type": "markdown",
      "source": [
        "# Check content"
      ]
    },
    {
      "metadata": {
        "id": "z9FcrIxQi_9Z",
        "colab_type": "code",
        "colab": {
          "base_uri": "https://localhost:8080/",
          "height": 391
        },
        "outputId": "1aa8eee0-c913-4549-aa79-20d5202e58af"
      },
      "cell_type": "code",
      "source": [
        "print('Training data: {} reviews， {} labels'.format(len(train_data), len(train_labels)))\n",
        "# print('Word IDs')\n",
        "# print(train_data[0])\n",
        "# print('Label')\n",
        "# print(train_labels[0])\n",
        "len(train_data[0]), len(train_data[1])\n",
        "print(decode_review(train_data[0]))"
      ],
      "execution_count": 62,
      "outputs": [
        {
          "output_type": "stream",
          "text": [
            "<SOS> this film was just brilliant casting location scenery story \n",
            " direction everyone's really suited the part they played and you \n",
            " could just imagine being there robert <UNK> is an amazing \n",
            " actor and now the same being director <UNK> father came \n",
            " from the same scottish island as myself so i loved \n",
            " the fact there was a real connection with this film \n",
            " the witty remarks throughout the film were great it was \n",
            " just brilliant so much that i bought the film as \n",
            " soon as it was released for <UNK> and would recommend \n",
            " it to everyone to watch and the fly fishing was \n",
            " amazing really cried at the end it was so sad \n",
            " and you know what they say if you cry at \n",
            " a film it must have been good and this definitely \n",
            " was also <UNK> to the two little boy's that played \n",
            " the <UNK> of norman and paul they were just brilliant \n",
            " children are often left out of the <UNK> list i \n",
            " think because the stars that play them all grown up \n",
            " are such a big profile for the whole film but \n",
            " these children are amazing and should be praised for what \n",
            " they have done don't you think the whole story was \n",
            " so lovely because it was true and was someone's life \n",
            " after all that was shared with us all\n"
          ],
          "name": "stdout"
        }
      ]
    },
    {
      "metadata": {
        "id": "cZ_Kyd7UmA0D",
        "colab_type": "text"
      },
      "cell_type": "markdown",
      "source": [
        "# Prepare the data for input"
      ]
    },
    {
      "metadata": {
        "id": "IcxOrehmjG_5",
        "colab_type": "code",
        "colab": {}
      },
      "cell_type": "code",
      "source": [
        "# padding before the sentence and cut the number of words at 100\n",
        "train_data = keras.preprocessing.sequence.pad_sequences(train_data,\n",
        "                                                       value = word_index['<PAD>'],\n",
        "                                                       padding = 'pre',\n",
        "                                                       truncating = 'pre',\n",
        "                                                       maxlen = 100)\n",
        "test_data = keras.preprocessing.sequence.pad_sequences(test_data,\n",
        "                                                     value = word_index['<PAD>'],\n",
        "                                                     padding = 'pre',\n",
        "                                                     truncating = 'pre',\n",
        "                                                     maxlen = 100)"
      ],
      "execution_count": 0,
      "outputs": []
    },
    {
      "metadata": {
        "id": "SIS9rSOkkefj",
        "colab_type": "code",
        "colab": {
          "base_uri": "https://localhost:8080/",
          "height": 204
        },
        "outputId": "2df5ad36-47fc-4c64-892b-9c4e29f29dd6"
      },
      "cell_type": "code",
      "source": [
        "# text after padding and truncated\n",
        "(len(train_data[0]), len(train_data[1]))\n",
        "print(decode_review(train_data[0]))"
      ],
      "execution_count": 82,
      "outputs": [
        {
          "output_type": "stream",
          "text": [
            "cry at a film it must have been good and \n",
            " this definitely was also <UNK> to the two little boy's \n",
            " that played the <UNK> of norman and paul they were \n",
            " just brilliant children are often left out of the <UNK> \n",
            " list i think because the stars that play them all \n",
            " grown up are such a big profile for the whole \n",
            " film but these children are amazing and should be praised \n",
            " for what they have done don't you think the whole \n",
            " story was so lovely because it was true and was \n",
            " someone's life after all that was shared with us all \n",
            "\n"
          ],
          "name": "stdout"
        }
      ]
    },
    {
      "metadata": {
        "id": "AuduDzjUpGIJ",
        "colab_type": "text"
      },
      "cell_type": "markdown",
      "source": [
        "# Create a validation set"
      ]
    },
    {
      "metadata": {
        "id": "yP-Jy2hWozqC",
        "colab_type": "code",
        "colab": {}
      },
      "cell_type": "code",
      "source": [
        "# choose the first 1000 data to be the validation set\n",
        "x_val = train_data[:1000]\n",
        "partial_x_train = train_data[1000:]\n",
        "y_val = train_labels[:1000]\n",
        "partial_y_train = train_labels[1000:]"
      ],
      "execution_count": 0,
      "outputs": []
    },
    {
      "metadata": {
        "id": "JbZXcttwqFXx",
        "colab_type": "text"
      },
      "cell_type": "markdown",
      "source": [
        "# Build the LSTM Bidirectioinal model"
      ]
    },
    {
      "metadata": {
        "id": "O0fKQ8pnFYAz",
        "colab_type": "text"
      },
      "cell_type": "markdown",
      "source": [
        "## Use pretrained GloVe word embedding "
      ]
    },
    {
      "metadata": {
        "id": "osRne6ECFWiP",
        "colab_type": "code",
        "colab": {}
      },
      "cell_type": "code",
      "source": [
        "import os\n",
        "os.chdir('/content')\n",
        "pretrained_embedding_matrix = (np.random.rand(vocab_size, 100) - 0.5) / 1e4\n",
        "\n",
        "# construct pre_trained matrix\n",
        "with open('glove.6B.100d.txt') as f:\n",
        "    for line in f:\n",
        "        values = line.split()\n",
        "        word = values[0]\n",
        "        if word in word_index:\n",
        "            embs = np.asarray(values[1:], dtype='float32')\n",
        "            if word_index[word] >= vocab_size: continue #return to the start of loop\n",
        "            pretrained_embedding_matrix[word_index[word]] = embs"
      ],
      "execution_count": 0,
      "outputs": []
    },
    {
      "metadata": {
        "id": "5fLqygyzqH1a",
        "colab_type": "code",
        "colab": {
          "base_uri": "https://localhost:8080/",
          "height": 340
        },
        "outputId": "7228701a-8f47-4cb6-b0f1-85995e62ec6a"
      },
      "cell_type": "code",
      "source": [
        "# the element in each batch/text will be represented as on-hot-encoding\n",
        "# we have 10000 vocabulary, which mean each element will be 10000 dimension,\n",
        "# thus, use embedding to embed each element to 100 dimension\n",
        "model = None\n",
        "K.clear_session()\n",
        "model = keras.Sequential()\n",
        "\n",
        "model.add(Embedding(vocab_size, 100, weights=[pretrained_embedding_matrix]))\n",
        "\n",
        "model.add(Bidirectional(LSTM(32, return_sequences=True, recurrent_dropout=0.6))) #return output to be as input of next LSTM\n",
        "model.add(Bidirectional(LSTM(32, return_sequences=True, recurrent_dropout=0.6)))\n",
        "model.add(Bidirectional(LSTM(32, return_sequences=False, recurrent_dropout=0.6)))\n",
        "\n",
        "model.add(Dropout(0.5))\n",
        "model.add(Dense(1, activation = 'sigmoid'))\n",
        "model.summary()\n",
        "\n",
        "model.compile(optimizer=tf.train.AdamOptimizer(),\n",
        "             loss = 'binary_crossentropy',\n",
        "             metrics = ['accuracy'])"
      ],
      "execution_count": 197,
      "outputs": [
        {
          "output_type": "stream",
          "text": [
            "_________________________________________________________________\n",
            "Layer (type)                 Output Shape              Param #   \n",
            "=================================================================\n",
            "embedding (Embedding)        (None, None, 100)         1000000   \n",
            "_________________________________________________________________\n",
            "bidirectional (Bidirectional (None, None, 64)          34048     \n",
            "_________________________________________________________________\n",
            "bidirectional_1 (Bidirection (None, None, 64)          24832     \n",
            "_________________________________________________________________\n",
            "bidirectional_2 (Bidirection (None, 64)                24832     \n",
            "_________________________________________________________________\n",
            "dropout (Dropout)            (None, 64)                0         \n",
            "_________________________________________________________________\n",
            "dense (Dense)                (None, 1)                 65        \n",
            "=================================================================\n",
            "Total params: 1,083,777\n",
            "Trainable params: 1,083,777\n",
            "Non-trainable params: 0\n",
            "_________________________________________________________________\n"
          ],
          "name": "stdout"
        }
      ]
    },
    {
      "metadata": {
        "id": "rVppUBVJvN0M",
        "colab_type": "text"
      },
      "cell_type": "markdown",
      "source": [
        "# Train the  model"
      ]
    },
    {
      "metadata": {
        "id": "z5tdpDbtvMFa",
        "colab_type": "code",
        "colab": {
          "base_uri": "https://localhost:8080/",
          "height": 156
        },
        "outputId": "061f4703-85b1-4f8d-caae-9d574f692ce2"
      },
      "cell_type": "code",
      "source": [
        "history = model.fit(partial_x_train,\n",
        "                   partial_y_train,\n",
        "                   epochs = 3,\n",
        "                   batch_size = 50,\n",
        "                   validation_data = (x_val, y_val))\n"
      ],
      "execution_count": 198,
      "outputs": [
        {
          "output_type": "stream",
          "text": [
            "Train on 24000 samples, validate on 1000 samples\n",
            "Epoch 1/3\n",
            "24000/24000 [==============================] - 567s 24ms/sample - loss: 0.5362 - acc: 0.7109 - val_loss: 0.3711 - val_acc: 0.8380\n",
            "Epoch 2/3\n",
            "24000/24000 [==============================] - 561s 23ms/sample - loss: 0.3275 - acc: 0.8640 - val_loss: 0.3322 - val_acc: 0.8460\n",
            "Epoch 3/3\n",
            "24000/24000 [==============================] - 562s 23ms/sample - loss: 0.2523 - acc: 0.9030 - val_loss: 0.3232 - val_acc: 0.8640\n"
          ],
          "name": "stdout"
        }
      ]
    },
    {
      "metadata": {
        "id": "FXXNz5Jr2-qL",
        "colab_type": "code",
        "colab": {
          "base_uri": "https://localhost:8080/",
          "height": 51
        },
        "outputId": "a021ae57-517d-40e3-fc92-d1b8883a1281"
      },
      "cell_type": "code",
      "source": [
        "results = model.evaluate(test_data, test_labels)"
      ],
      "execution_count": 199,
      "outputs": [
        {
          "output_type": "stream",
          "text": [
            "25000/25000 [==============================] - 197s 8ms/sample - loss: 0.3399 - acc: 0.8551\n",
            "loss is: 0.33992352935791015 accuracy is:0.8551200032234192 on test set\n"
          ],
          "name": "stdout"
        }
      ]
    },
    {
      "metadata": {
        "id": "GWvRiWMpHwQs",
        "colab_type": "code",
        "colab": {
          "base_uri": "https://localhost:8080/",
          "height": 571
        },
        "outputId": "fb99ee1a-0766-4adb-b930-62376a4d6590"
      },
      "cell_type": "code",
      "source": [
        "# plot the learning curve\n",
        "plot_hist(history)"
      ],
      "execution_count": 200,
      "outputs": [
        {
          "output_type": "display_data",
          "data": {
            "image/png": "[encoded data removed]",
            "text/plain": [
              "<Figure size 432x288 with 1 Axes>"
            ]
          },
          "metadata": {
            "tags": []
          }
        },
        {
          "output_type": "display_data",
          "data": {
            "image/png": "[encoded data removed]",
            "text/plain": [
              "<Figure size 432x288 with 1 Axes>"
            ]
          },
          "metadata": {
            "tags": []
          }
        }
      ]
    },
    {
      "metadata": {
        "id": "cmyQZoZfA1h3",
        "colab_type": "code",
        "colab": {
          "base_uri": "https://localhost:8080/",
          "height": 34
        },
        "outputId": "f4b1add5-dfc3-47f7-8894-5e06199b7a23"
      },
      "cell_type": "code",
      "source": [
        "print('loss is: {} accuracy is:{} on test set'.format(results[0], results[1]))"
      ],
      "execution_count": 203,
      "outputs": [
        {
          "output_type": "stream",
          "text": [
            "loss is: 0.33992352935791015 accuracy is:0.8551200032234192 on test set\n"
          ],
          "name": "stdout"
        }
      ]
    }
  ]
}